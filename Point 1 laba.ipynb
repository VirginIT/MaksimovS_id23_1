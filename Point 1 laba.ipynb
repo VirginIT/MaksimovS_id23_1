{
 "cells": [
  {
   "cell_type": "code",
   "execution_count": 7,
   "id": "ab61e68c",
   "metadata": {},
   "outputs": [
    {
     "name": "stdin",
     "output_type": "stream",
     "text": [
      "Выберете скорость:  10\n"
     ]
    }
   ],
   "source": [
    "from tkinter import *\n",
    "import math\n",
    "\n",
    "root = Tk()\n",
    "\n",
    "canvas = Canvas(root, width=600, height=600)\n",
    "canvas.pack()\n",
    "\n",
    "canvas.create_oval(100, 100, 500, 500)\n",
    "point = canvas.create_oval(295, 295, 305, 305, fill=\"red\")\n",
    "\n",
    "def change():\n",
    "    global direction\n",
    "    direction = -direction\n",
    "    \n",
    "b = Button(text='Изменить направление', width=15, height=15)\n",
    "b.config(command=change)\n",
    "b.pack()\n",
    "\n",
    "def move_point():\n",
    "    global angle, direction, speed\n",
    "    x = int(300 + 200 * math.cos(math.radians(angle)))\n",
    "    y = int(300 - 200 * math.sin(math.radians(angle)))\n",
    "    canvas.coords(point, x+7, y+7, x-7, y-7)\n",
    "    angle += direction\n",
    "    if angle <= -360:\n",
    "        angle = 0\n",
    "    root.after(speed, move_point)\n",
    "    \n",
    "direction = 1    \n",
    "angle = 0\n",
    "speed = int(input('Выберете скорость: '))\n",
    "move_point()\n",
    "root.mainloop()"
   ]
  },
  {
   "cell_type": "code",
   "execution_count": null,
   "id": "0c88d25f",
   "metadata": {},
   "outputs": [],
   "source": []
  }
 ],
 "metadata": {
  "kernelspec": {
   "display_name": "Python 3 (ipykernel)",
   "language": "python",
   "name": "python3"
  },
  "language_info": {
   "codemirror_mode": {
    "name": "ipython",
    "version": 3
   },
   "file_extension": ".py",
   "mimetype": "text/x-python",
   "name": "python",
   "nbconvert_exporter": "python",
   "pygments_lexer": "ipython3",
   "version": "3.12.4"
  }
 },
 "nbformat": 4,
 "nbformat_minor": 5
}
